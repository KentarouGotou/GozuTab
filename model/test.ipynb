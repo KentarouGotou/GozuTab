{
 "cells": [
  {
   "cell_type": "code",
   "execution_count": 12,
   "metadata": {},
   "outputs": [
    {
     "name": "stdout",
     "output_type": "stream",
     "text": [
      "cqt, melspec, raw_wave, stft, tab\n",
      "1322 1322 676752 1322 75\n",
      "4056 4056 2076640 4056 345\n",
      "4056 4056 2076640 4056 345\n",
      "4176 4176 2138080 4176 361\n",
      "4176 4176 2138080 4176 453\n",
      "4176 4176 2138080 4176 453\n",
      "4613 4613 2361824 4613 453\n",
      "6702 6702 3431392 6702 453\n"
     ]
    }
   ],
   "source": [
    "import numpy as np\n",
    "import os\n",
    "\n",
    "dir_path = \"preprocessed/\"\n",
    "cqt_path = dir_path + \"cqt/\"\n",
    "melspec = dir_path + \"melspec/\"\n",
    "raw_wave = dir_path + \"raw_wave/\"\n",
    "stft = dir_path + \"stft/\"\n",
    "tab_dir_path = dir_path + \"tab/\"\n",
    "filenames = [f.split(\".\")[0] for f in os.listdir(tab_dir_path)]\n",
    "cqt_max = 0\n",
    "melspec_max = 0\n",
    "raw_wave_max = 0\n",
    "stft_max = 0\n",
    "tab_max = 0\n",
    "print(\"cqt, melspec, raw_wave, stft, tab\")\n",
    "for filename in filenames:\n",
    "    cqt_data = np.load(cqt_path + filename + \".npy\")\n",
    "    melspec_data = np.load(melspec + filename + \".npy\")\n",
    "    raw_wave_data = np.load(raw_wave + filename + \".npy\")\n",
    "    stft_data = np.load(stft + filename + \".npy\")\n",
    "    tab_data = np.load(tab_dir_path + filename + \".npz\", allow_pickle=True)\n",
    "    tempo = tab_data['tempo']\n",
    "    tab = tab_data['tab']\n",
    "    if cqt_data.shape[1] > cqt_max:\n",
    "        cqt_max = cqt_data.shape[1]\n",
    "    if melspec_data.shape[1] > melspec_max:\n",
    "        melspec_max = melspec_data.shape[1]\n",
    "    if raw_wave_data.shape[0] > raw_wave_max:\n",
    "        raw_wave_max = raw_wave_data.shape[0]\n",
    "    if stft_data.shape[1] > stft_max:\n",
    "        stft_max = stft_data.shape[1]\n",
    "    if tab.shape[0] > tab_max:\n",
    "        tab_max = tab.shape[0]\n",
    "    print(cqt_max, melspec_max, raw_wave_max, stft_max, tab_max)\n"
   ]
  },
  {
   "cell_type": "code",
   "execution_count": 6,
   "metadata": {},
   "outputs": [
    {
     "name": "stdout",
     "output_type": "stream",
     "text": [
      "(75, 21) (10000, 192, 9, 1)\n",
      "Tab data:  [5. 0. 0. 0. 0. 0. 0. 0. 0. 0. 0. 0. 0. 0. 0. 0. 0. 0. 2. 0. 1.]\n",
      "[120]\n",
      "(75, 21)\n",
      "(192, 9, 1)\n"
     ]
    }
   ],
   "source": [
    "import getdataset as gd\n",
    "\n",
    "dataset = gd.Dataset()\n",
    "tempo, tab_data, audio_data = dataset[0]\n",
    "print(tempo)\n",
    "print(tab_data.shape)\n",
    "print(audio_data[0].shape)"
   ]
  }
 ],
 "metadata": {
  "kernelspec": {
   "display_name": "Python 3",
   "language": "python",
   "name": "python3"
  },
  "language_info": {
   "codemirror_mode": {
    "name": "ipython",
    "version": 3
   },
   "file_extension": ".py",
   "mimetype": "text/x-python",
   "name": "python",
   "nbconvert_exporter": "python",
   "pygments_lexer": "ipython3",
   "version": "3.9.13"
  },
  "orig_nbformat": 4
 },
 "nbformat": 4,
 "nbformat_minor": 2
}
